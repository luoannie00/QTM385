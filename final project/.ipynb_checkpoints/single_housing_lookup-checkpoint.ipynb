{
 "cells": [
  {
   "cell_type": "code",
   "execution_count": null,
   "id": "00278108",
   "metadata": {},
   "outputs": [],
   "source": [
    "# import sys\n",
    "# !{sys.executable} -m pip install pygam"
   ]
  },
  {
   "cell_type": "markdown",
   "id": "ff335f76",
   "metadata": {},
   "source": [
    "## import packages"
   ]
  },
  {
   "cell_type": "code",
   "execution_count": null,
   "id": "73e03f5b",
   "metadata": {},
   "outputs": [],
   "source": [
    "import pandas as pd\n",
    "import numpy as np\n",
    "import seaborn as sns\n",
    "from sklearn.metrics import mean_squared_error\n",
    "from math import sqrt\n",
    "from tqdm.notebook import tqdm\n",
    "from sklearn.model_selection import train_test_split\n",
    "from sklearn.linear_model import LinearRegression\n",
    "from pygam import LinearGAM, s, te\n",
    "from sklearn.neighbors import KNeighborsRegressor\n",
    "from sklearn.ensemble import RandomForestRegressor"
   ]
  },
  {
   "cell_type": "markdown",
   "id": "dd4b4ed1",
   "metadata": {},
   "source": [
    "## load dataset"
   ]
  },
  {
   "cell_type": "code",
   "execution_count": null,
   "id": "146a5ce3",
   "metadata": {},
   "outputs": [],
   "source": [
    "original_dat = pd.read_csv('single_housing.csv')"
   ]
  },
  {
   "cell_type": "code",
   "execution_count": null,
   "id": "18ef888a",
   "metadata": {
    "scrolled": true
   },
   "outputs": [],
   "source": [
    "original_dat"
   ]
  },
  {
   "cell_type": "code",
   "execution_count": null,
   "id": "7d76dfdf",
   "metadata": {},
   "outputs": [],
   "source": [
    "#create duplicate dataset\n",
    "dat = original_dat"
   ]
  },
  {
   "cell_type": "markdown",
   "id": "a41e5956",
   "metadata": {},
   "source": [
    "## data cleaning"
   ]
  },
  {
   "cell_type": "code",
   "execution_count": null,
   "id": "0dc185c0",
   "metadata": {},
   "outputs": [],
   "source": [
    "sns.boxplot(data=dat, x='Price')"
   ]
  },
  {
   "cell_type": "code",
   "execution_count": null,
   "id": "ac226732",
   "metadata": {},
   "outputs": [],
   "source": [
    "#remove outliers\n",
    "percentile25 = dat['Price'].quantile(0.25)\n",
    "percentile75 = dat['Price'].quantile(0.75)\n",
    "IQR = percentile75 - percentile25\n",
    "dat = dat.loc[(dat['Price']>percentile25-1.5*IQR) & (dat['Price']<percentile75+1.5*IQR),]"
   ]
  },
  {
   "cell_type": "code",
   "execution_count": null,
   "id": "037d99d1",
   "metadata": {},
   "outputs": [],
   "source": [
    "#number of rows removed\n",
    "len(original_dat) - len(dat)"
   ]
  },
  {
   "cell_type": "code",
   "execution_count": null,
   "id": "298caec8",
   "metadata": {},
   "outputs": [],
   "source": [
    "#remove non-numeric columns\n",
    "dat = dat.drop(['Street','City','State','Zip','geoadd','CheckAddDuplicate'], axis=1)"
   ]
  },
  {
   "cell_type": "code",
   "execution_count": null,
   "id": "0246fa7f",
   "metadata": {},
   "outputs": [],
   "source": [
    "dat.describe()"
   ]
  },
  {
   "cell_type": "code",
   "execution_count": null,
   "id": "60675aad",
   "metadata": {},
   "outputs": [],
   "source": [
    "dat.isna().sum()"
   ]
  },
  {
   "cell_type": "code",
   "execution_count": null,
   "id": "cd24217c",
   "metadata": {},
   "outputs": [],
   "source": [
    "sns.histplot(data=dat, x='Price', bins=10)"
   ]
  },
  {
   "cell_type": "markdown",
   "id": "05afa69b",
   "metadata": {},
   "source": [
    "## PCA matrix completion"
   ]
  },
  {
   "cell_type": "code",
   "execution_count": null,
   "id": "24a04964",
   "metadata": {},
   "outputs": [],
   "source": [
    "#fill NAs temporary\n",
    "dat = dat.fillna(dat.mean())"
   ]
  },
  {
   "cell_type": "markdown",
   "id": "618109b9",
   "metadata": {},
   "source": [
    "## linear regression"
   ]
  },
  {
   "cell_type": "code",
   "execution_count": null,
   "id": "15621fdc",
   "metadata": {},
   "outputs": [],
   "source": [
    "#prep the data\n",
    "# X = dat[['Latitude','Longitude']].values\n",
    "# X = dat[['SqFt','Acreage','Beds','Baths']].values\n",
    "X = dat.iloc[: , 1:].values\n",
    "y = dat['Price'].values"
   ]
  },
  {
   "cell_type": "code",
   "execution_count": null,
   "id": "8f30933a",
   "metadata": {},
   "outputs": [],
   "source": [
    "#split the data\n",
    "X_train, X_test, y_train, y_test = train_test_split(X, y, test_size=0.3, random_state=12345)"
   ]
  },
  {
   "cell_type": "code",
   "execution_count": null,
   "id": "35cdd356",
   "metadata": {},
   "outputs": [],
   "source": [
    "#fit the model\n",
    "linear_reg = LinearRegression().fit(X_train, y_train)"
   ]
  },
  {
   "cell_type": "code",
   "execution_count": null,
   "id": "b540eb86",
   "metadata": {},
   "outputs": [],
   "source": [
    "#evaluate the model\n",
    "test_preds = linear_reg.predict(X_test)\n",
    "rmse = sqrt(mean_squared_error(y_test, test_preds))"
   ]
  },
  {
   "cell_type": "code",
   "execution_count": null,
   "id": "64e40998",
   "metadata": {},
   "outputs": [],
   "source": [
    "print('The out-of-sample error: ' + str(round(rmse,3)))"
   ]
  },
  {
   "cell_type": "markdown",
   "id": "6f9ed37f",
   "metadata": {},
   "source": [
    "## GAM"
   ]
  },
  {
   "cell_type": "code",
   "execution_count": null,
   "id": "ef9cf9a9",
   "metadata": {},
   "outputs": [],
   "source": [
    "#prep the data\n",
    "# X = dat[['Latitude','Longitude']].values\n",
    "# X = dat[['SqFt','Acreage','Beds','Baths']].values\n",
    "X = dat.iloc[: , 1:].values\n",
    "y = dat['Price'].values"
   ]
  },
  {
   "cell_type": "code",
   "execution_count": null,
   "id": "e3c80a85",
   "metadata": {},
   "outputs": [],
   "source": [
    "#split the data\n",
    "X_train, X_test, y_train, y_test = train_test_split(X, y, test_size=0.3, random_state=12345)"
   ]
  },
  {
   "cell_type": "code",
   "execution_count": null,
   "id": "a610673b",
   "metadata": {},
   "outputs": [],
   "source": [
    "#fit the model\n",
    "# gam_reg = LinearGAM(s(0) + s(1) + te(0,1)).fit(X, y)\n",
    "gam_reg = LinearGAM(s(0) + s(1) + s(2) + s(3) + s(4) + s(5)).fit(X, y)"
   ]
  },
  {
   "cell_type": "code",
   "execution_count": null,
   "id": "1f5f9235",
   "metadata": {},
   "outputs": [],
   "source": [
    "#evaluate the model\n",
    "test_preds = gam_reg.predict(X_test)\n",
    "rmse = sqrt(mean_squared_error(y_test, test_preds))"
   ]
  },
  {
   "cell_type": "code",
   "execution_count": null,
   "id": "73ab737c",
   "metadata": {},
   "outputs": [],
   "source": [
    "print('The out-of-sample error: ' + str(round(rmse,3)))"
   ]
  },
  {
   "cell_type": "markdown",
   "id": "043b5c3e",
   "metadata": {},
   "source": [
    "## KNN"
   ]
  },
  {
   "cell_type": "code",
   "execution_count": null,
   "id": "93113d17",
   "metadata": {},
   "outputs": [],
   "source": [
    "#prep the data\n",
    "# X = dat[['Latitude','Longitude']].values\n",
    "X = dat[['SqFt','Acreage','Beds','Baths']].values\n",
    "# X = dat.iloc[: , 1:].values\n",
    "y = dat['Price'].values"
   ]
  },
  {
   "cell_type": "code",
   "execution_count": null,
   "id": "5b228a6b",
   "metadata": {},
   "outputs": [],
   "source": [
    "#split the data\n",
    "X_train, X_test, y_train, y_test = train_test_split(X, y, test_size=0.3, random_state=12345)"
   ]
  },
  {
   "cell_type": "code",
   "execution_count": null,
   "id": "92647517",
   "metadata": {},
   "outputs": [],
   "source": [
    "#tune the model\n",
    "outsample = []\n",
    "k = list(range(1,20)) + list(range(20,100,5)) + list(range(100,501,100))\n",
    "\n",
    "for i in range(len(k)):\n",
    "    knn_model = KNeighborsRegressor(n_neighbors=k[i])\n",
    "    knn_model.fit(X_train, y_train)\n",
    "    #out-of-sample\n",
    "    test_preds = knn_model.predict(X_test)\n",
    "    outsample.append(sqrt(mean_squared_error(y_test, test_preds)))"
   ]
  },
  {
   "cell_type": "code",
   "execution_count": null,
   "id": "32438a47",
   "metadata": {},
   "outputs": [],
   "source": [
    "knn_dat = pd.DataFrame({'k':k, 'out-of-sample error':outsample})\n",
    "sns.lineplot(data=knn_dat, x='k', y='out-of-sample error')"
   ]
  },
  {
   "cell_type": "code",
   "execution_count": null,
   "id": "4b32c400",
   "metadata": {},
   "outputs": [],
   "source": [
    "#finalize the model\n",
    "optimalk = k[outsample.index(min(outsample))]\n",
    "print('The best k for out-of-sample prediction: ' + str(optimalk))\n",
    "print('The best out-of-sample error: ' + str(round(min(outsample),3)))"
   ]
  },
  {
   "cell_type": "markdown",
   "id": "1bd0a677",
   "metadata": {},
   "source": [
    "## random forest"
   ]
  },
  {
   "cell_type": "code",
   "execution_count": null,
   "id": "1cbbe78d",
   "metadata": {},
   "outputs": [],
   "source": [
    "#prep the data\n",
    "# X = dat[['SqFt','Acreage','Beds','Baths']].values\n",
    "X = dat.iloc[: , 1:].values\n",
    "y = dat['Price'].values"
   ]
  },
  {
   "cell_type": "code",
   "execution_count": null,
   "id": "5c066ddf",
   "metadata": {},
   "outputs": [],
   "source": [
    "#split the data\n",
    "X_train, X_test, y_train, y_test = train_test_split(X, y, test_size=0.3, random_state=12345)"
   ]
  },
  {
   "cell_type": "code",
   "execution_count": null,
   "id": "5df86fdd",
   "metadata": {},
   "outputs": [],
   "source": [
    "#tune the model\n",
    "maxfeatures = [2,3,4,5,6]\n",
    "samplesleaf = list(range(1,15)) + list(range(15,50,5))\n",
    "bestmaxfeature = 99999\n",
    "bestsamplesleaf = 99999\n",
    "best_outsample = 99999\n",
    "\n",
    "for i in tqdm(range(len(maxfeatures))):\n",
    "    for j in range(len(samplesleaf)):\n",
    "        rf_model = RandomForestRegressor(n_estimators=1000, \n",
    "                                         max_features=maxfeatures[i], \n",
    "                                         min_samples_leaf=samplesleaf[j])\n",
    "        rf_model.fit(X_train, y_train)\n",
    "        #out-of-sample\n",
    "        test_preds = rf_model.predict(X_test)\n",
    "        rmse = sqrt(mean_squared_error(y_test, test_preds))\n",
    "        if rmse < best_outsample:\n",
    "            bestmaxfeature = maxfeatures[i]\n",
    "            bestsamplesleaf = samplesleaf[j]\n",
    "            best_outsample = rmse"
   ]
  },
  {
   "cell_type": "code",
   "execution_count": null,
   "id": "edb0eee2",
   "metadata": {},
   "outputs": [],
   "source": [
    "print('The best max_features for out-of-sample prediction: ' + str(bestmaxfeature))\n",
    "print('The best min_samples_leaf for out-of-sample prediction: ' + str(bestsamplesleaf))\n",
    "print('The best out-of-sample error: ' + str(round(best_outsample,3)))"
   ]
  },
  {
   "cell_type": "code",
   "execution_count": null,
   "id": "61f9784d",
   "metadata": {},
   "outputs": [],
   "source": []
  },
  {
   "cell_type": "code",
   "execution_count": null,
   "id": "74e132c5",
   "metadata": {},
   "outputs": [],
   "source": [
    "#thoughts\n",
    "#1. PCA matrix completion to fill missing values\n",
    "#2. linear_reg, GAM, KNN and rf to predict prices\n",
    "#3. learn boosting trees and neural networks to predict prices\n",
    "\n",
    "#aside\n",
    "#the dataset is raw, probably need to remove the outliers\n",
    "#the ultimate goal is to try to make better predictions on price than we did in summer"
   ]
  }
 ],
 "metadata": {
  "kernelspec": {
   "display_name": "Python 3",
   "language": "python",
   "name": "python3"
  },
  "language_info": {
   "codemirror_mode": {
    "name": "ipython",
    "version": 3
   },
   "file_extension": ".py",
   "mimetype": "text/x-python",
   "name": "python",
   "nbconvert_exporter": "python",
   "pygments_lexer": "ipython3",
   "version": "3.8.8"
  }
 },
 "nbformat": 4,
 "nbformat_minor": 5
}
