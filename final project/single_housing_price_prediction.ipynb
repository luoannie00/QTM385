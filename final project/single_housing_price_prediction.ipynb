{
 "cells": [
  {
   "cell_type": "code",
   "execution_count": null,
   "id": "00278108",
   "metadata": {},
   "outputs": [],
   "source": [
    "# import sys\n",
    "# !{sys.executable} -m pip install pygam"
   ]
  },
  {
   "cell_type": "markdown",
   "id": "ff335f76",
   "metadata": {},
   "source": [
    "## import packages"
   ]
  },
  {
   "cell_type": "code",
   "execution_count": 1,
   "id": "73e03f5b",
   "metadata": {},
   "outputs": [],
   "source": [
    "import pandas as pd\n",
    "import numpy as np\n",
    "import seaborn as sns\n",
    "from sklearn.metrics import mean_squared_error\n",
    "from math import sqrt\n",
    "from tqdm.notebook import tqdm\n",
    "from sklearn.model_selection import train_test_split\n",
    "from sklearn.model_selection import cross_validate\n",
    "from sklearn.impute import KNNImputer\n",
    "\n",
    "from pygam import LinearGAM, s, te\n",
    "from sklearn.neighbors import KNeighborsRegressor\n",
    "from sklearn.ensemble import RandomForestRegressor\n",
    "from sklearn.tree import DecisionTreeRegressor\n",
    "from sklearn.ensemble import AdaBoostRegressor\n",
    "from sklearn.ensemble import GradientBoostingRegressor"
   ]
  },
  {
   "cell_type": "markdown",
   "id": "dd4b4ed1",
   "metadata": {},
   "source": [
    "## load dataset"
   ]
  },
  {
   "cell_type": "code",
   "execution_count": 2,
   "id": "146a5ce3",
   "metadata": {},
   "outputs": [],
   "source": [
    "original_dat = pd.read_csv('single_housing.csv')"
   ]
  },
  {
   "cell_type": "code",
   "execution_count": 3,
   "id": "18ef888a",
   "metadata": {
    "scrolled": true
   },
   "outputs": [
    {
     "data": {
      "text/html": [
       "<div>\n",
       "<style scoped>\n",
       "    .dataframe tbody tr th:only-of-type {\n",
       "        vertical-align: middle;\n",
       "    }\n",
       "\n",
       "    .dataframe tbody tr th {\n",
       "        vertical-align: top;\n",
       "    }\n",
       "\n",
       "    .dataframe thead th {\n",
       "        text-align: right;\n",
       "    }\n",
       "</style>\n",
       "<table border=\"1\" class=\"dataframe\">\n",
       "  <thead>\n",
       "    <tr style=\"text-align: right;\">\n",
       "      <th></th>\n",
       "      <th>Street</th>\n",
       "      <th>City</th>\n",
       "      <th>State</th>\n",
       "      <th>Zip</th>\n",
       "      <th>Price</th>\n",
       "      <th>SqFt</th>\n",
       "      <th>Acreage</th>\n",
       "      <th>Beds</th>\n",
       "      <th>Baths</th>\n",
       "      <th>geoadd</th>\n",
       "      <th>Latitude</th>\n",
       "      <th>Longitude</th>\n",
       "      <th>CheckAddDuplicate</th>\n",
       "    </tr>\n",
       "  </thead>\n",
       "  <tbody>\n",
       "    <tr>\n",
       "      <th>0</th>\n",
       "      <td>103 Meadow Side Ct</td>\n",
       "      <td>Carrollton</td>\n",
       "      <td>GA</td>\n",
       "      <td>30116</td>\n",
       "      <td>2249</td>\n",
       "      <td>1436.0</td>\n",
       "      <td>0.42</td>\n",
       "      <td>3.0</td>\n",
       "      <td>2.0</td>\n",
       "      <td>103 Meadow Side Ct, Carrollton, GA 30116</td>\n",
       "      <td>33.568164</td>\n",
       "      <td>-85.040620</td>\n",
       "      <td>False</td>\n",
       "    </tr>\n",
       "    <tr>\n",
       "      <th>1</th>\n",
       "      <td>39 Mountain View Dr</td>\n",
       "      <td>Rockmart</td>\n",
       "      <td>GA</td>\n",
       "      <td>30153</td>\n",
       "      <td>2675</td>\n",
       "      <td>3107.0</td>\n",
       "      <td>0.36</td>\n",
       "      <td>4.0</td>\n",
       "      <td>3.0</td>\n",
       "      <td>39 Mountain View Dr, Rockmart, GA 30153</td>\n",
       "      <td>34.009622</td>\n",
       "      <td>-85.017519</td>\n",
       "      <td>False</td>\n",
       "    </tr>\n",
       "    <tr>\n",
       "      <th>2</th>\n",
       "      <td>32 Mountain View Dr</td>\n",
       "      <td>Rockmart</td>\n",
       "      <td>GA</td>\n",
       "      <td>30153</td>\n",
       "      <td>2099</td>\n",
       "      <td>1276.0</td>\n",
       "      <td>0.35</td>\n",
       "      <td>3.0</td>\n",
       "      <td>2.0</td>\n",
       "      <td>32 Mountain View Dr, Rockmart, GA 30153</td>\n",
       "      <td>34.008885</td>\n",
       "      <td>-85.018616</td>\n",
       "      <td>False</td>\n",
       "    </tr>\n",
       "    <tr>\n",
       "      <th>3</th>\n",
       "      <td>381 Wingfoot St</td>\n",
       "      <td>Rockmart</td>\n",
       "      <td>GA</td>\n",
       "      <td>30153</td>\n",
       "      <td>2190</td>\n",
       "      <td>1447.0</td>\n",
       "      <td>0.33</td>\n",
       "      <td>3.0</td>\n",
       "      <td>2.0</td>\n",
       "      <td>381 Wingfoot St, Rockmart, GA 30153</td>\n",
       "      <td>34.004158</td>\n",
       "      <td>-85.033841</td>\n",
       "      <td>False</td>\n",
       "    </tr>\n",
       "    <tr>\n",
       "      <th>4</th>\n",
       "      <td>30 Standing Rock Rd</td>\n",
       "      <td>Senoia</td>\n",
       "      <td>GA</td>\n",
       "      <td>30276</td>\n",
       "      <td>2200</td>\n",
       "      <td>1728.0</td>\n",
       "      <td>1.03</td>\n",
       "      <td>3.0</td>\n",
       "      <td>2.0</td>\n",
       "      <td>30 Standing Rock Rd, Senoia, GA 30276</td>\n",
       "      <td>33.305696</td>\n",
       "      <td>-84.558150</td>\n",
       "      <td>False</td>\n",
       "    </tr>\n",
       "    <tr>\n",
       "      <th>...</th>\n",
       "      <td>...</td>\n",
       "      <td>...</td>\n",
       "      <td>...</td>\n",
       "      <td>...</td>\n",
       "      <td>...</td>\n",
       "      <td>...</td>\n",
       "      <td>...</td>\n",
       "      <td>...</td>\n",
       "      <td>...</td>\n",
       "      <td>...</td>\n",
       "      <td>...</td>\n",
       "      <td>...</td>\n",
       "      <td>...</td>\n",
       "    </tr>\n",
       "    <tr>\n",
       "      <th>6106</th>\n",
       "      <td>6260 New Mill Trl</td>\n",
       "      <td>Acworth</td>\n",
       "      <td>GA</td>\n",
       "      <td>30102</td>\n",
       "      <td>1975</td>\n",
       "      <td>1300.0</td>\n",
       "      <td>0.69</td>\n",
       "      <td>3.0</td>\n",
       "      <td>2.0</td>\n",
       "      <td>6260 New Mill Trl, Acworth, GA 30102</td>\n",
       "      <td>34.107751</td>\n",
       "      <td>-84.627044</td>\n",
       "      <td>False</td>\n",
       "    </tr>\n",
       "    <tr>\n",
       "      <th>6107</th>\n",
       "      <td>115 Jameson Dr</td>\n",
       "      <td>Acworth</td>\n",
       "      <td>GA</td>\n",
       "      <td>30102</td>\n",
       "      <td>2750</td>\n",
       "      <td>2113.0</td>\n",
       "      <td>0.00</td>\n",
       "      <td>3.0</td>\n",
       "      <td>2.5</td>\n",
       "      <td>115 Jameson Dr, Acworth, GA 30102</td>\n",
       "      <td>34.114253</td>\n",
       "      <td>-84.637448</td>\n",
       "      <td>False</td>\n",
       "    </tr>\n",
       "    <tr>\n",
       "      <th>6108</th>\n",
       "      <td>6340 McCollum Ln</td>\n",
       "      <td>Acworth</td>\n",
       "      <td>GA</td>\n",
       "      <td>30102</td>\n",
       "      <td>5750</td>\n",
       "      <td>1480.0</td>\n",
       "      <td>1.00</td>\n",
       "      <td>4.0</td>\n",
       "      <td>2.0</td>\n",
       "      <td>6340 McCollum Ln, Acworth, GA 30102</td>\n",
       "      <td>34.104797</td>\n",
       "      <td>-84.638603</td>\n",
       "      <td>False</td>\n",
       "    </tr>\n",
       "    <tr>\n",
       "      <th>6109</th>\n",
       "      <td>19 Moonlight Dr</td>\n",
       "      <td>Acworth</td>\n",
       "      <td>GA</td>\n",
       "      <td>30102</td>\n",
       "      <td>5200</td>\n",
       "      <td>1237.0</td>\n",
       "      <td>1.00</td>\n",
       "      <td>3.0</td>\n",
       "      <td>2.5</td>\n",
       "      <td>19 Moonlight Dr, Acworth, GA 30102</td>\n",
       "      <td>34.111894</td>\n",
       "      <td>-84.659457</td>\n",
       "      <td>False</td>\n",
       "    </tr>\n",
       "    <tr>\n",
       "      <th>6110</th>\n",
       "      <td>122 Highland View Pass</td>\n",
       "      <td>White</td>\n",
       "      <td>GA</td>\n",
       "      <td>30184</td>\n",
       "      <td>2475</td>\n",
       "      <td>2468.0</td>\n",
       "      <td>2.00</td>\n",
       "      <td>5.0</td>\n",
       "      <td>3.0</td>\n",
       "      <td>122 Highland View Pass, White, GA 30184</td>\n",
       "      <td>34.214803</td>\n",
       "      <td>-84.631582</td>\n",
       "      <td>False</td>\n",
       "    </tr>\n",
       "  </tbody>\n",
       "</table>\n",
       "<p>6111 rows × 13 columns</p>\n",
       "</div>"
      ],
      "text/plain": [
       "                      Street        City State    Zip  Price    SqFt  Acreage  \\\n",
       "0         103 Meadow Side Ct  Carrollton    GA  30116   2249  1436.0     0.42   \n",
       "1        39 Mountain View Dr    Rockmart    GA  30153   2675  3107.0     0.36   \n",
       "2        32 Mountain View Dr    Rockmart    GA  30153   2099  1276.0     0.35   \n",
       "3            381 Wingfoot St    Rockmart    GA  30153   2190  1447.0     0.33   \n",
       "4        30 Standing Rock Rd      Senoia    GA  30276   2200  1728.0     1.03   \n",
       "...                      ...         ...   ...    ...    ...     ...      ...   \n",
       "6106       6260 New Mill Trl     Acworth    GA  30102   1975  1300.0     0.69   \n",
       "6107          115 Jameson Dr     Acworth    GA  30102   2750  2113.0     0.00   \n",
       "6108        6340 McCollum Ln     Acworth    GA  30102   5750  1480.0     1.00   \n",
       "6109         19 Moonlight Dr     Acworth    GA  30102   5200  1237.0     1.00   \n",
       "6110  122 Highland View Pass       White    GA  30184   2475  2468.0     2.00   \n",
       "\n",
       "      Beds  Baths                                    geoadd   Latitude  \\\n",
       "0      3.0    2.0  103 Meadow Side Ct, Carrollton, GA 30116  33.568164   \n",
       "1      4.0    3.0   39 Mountain View Dr, Rockmart, GA 30153  34.009622   \n",
       "2      3.0    2.0   32 Mountain View Dr, Rockmart, GA 30153  34.008885   \n",
       "3      3.0    2.0       381 Wingfoot St, Rockmart, GA 30153  34.004158   \n",
       "4      3.0    2.0     30 Standing Rock Rd, Senoia, GA 30276  33.305696   \n",
       "...    ...    ...                                       ...        ...   \n",
       "6106   3.0    2.0      6260 New Mill Trl, Acworth, GA 30102  34.107751   \n",
       "6107   3.0    2.5         115 Jameson Dr, Acworth, GA 30102  34.114253   \n",
       "6108   4.0    2.0       6340 McCollum Ln, Acworth, GA 30102  34.104797   \n",
       "6109   3.0    2.5        19 Moonlight Dr, Acworth, GA 30102  34.111894   \n",
       "6110   5.0    3.0   122 Highland View Pass, White, GA 30184  34.214803   \n",
       "\n",
       "      Longitude  CheckAddDuplicate  \n",
       "0    -85.040620              False  \n",
       "1    -85.017519              False  \n",
       "2    -85.018616              False  \n",
       "3    -85.033841              False  \n",
       "4    -84.558150              False  \n",
       "...         ...                ...  \n",
       "6106 -84.627044              False  \n",
       "6107 -84.637448              False  \n",
       "6108 -84.638603              False  \n",
       "6109 -84.659457              False  \n",
       "6110 -84.631582              False  \n",
       "\n",
       "[6111 rows x 13 columns]"
      ]
     },
     "execution_count": 3,
     "metadata": {},
     "output_type": "execute_result"
    }
   ],
   "source": [
    "original_dat"
   ]
  },
  {
   "cell_type": "code",
   "execution_count": 4,
   "id": "7d76dfdf",
   "metadata": {},
   "outputs": [],
   "source": [
    "#create duplicate dataset\n",
    "dat = original_dat"
   ]
  },
  {
   "cell_type": "markdown",
   "id": "a41e5956",
   "metadata": {},
   "source": [
    "## data cleaning"
   ]
  },
  {
   "cell_type": "code",
   "execution_count": null,
   "id": "0dc185c0",
   "metadata": {},
   "outputs": [],
   "source": [
    "sns.boxplot(data=dat, x='Price')"
   ]
  },
  {
   "cell_type": "code",
   "execution_count": 5,
   "id": "ac226732",
   "metadata": {},
   "outputs": [],
   "source": [
    "#remove outliers\n",
    "percentile25 = dat['Price'].quantile(0.25)\n",
    "percentile75 = dat['Price'].quantile(0.75)\n",
    "IQR = percentile75 - percentile25\n",
    "dat = dat.loc[(dat['Price']>percentile25-1.5*IQR) & (dat['Price']<percentile75+1.5*IQR),]"
   ]
  },
  {
   "cell_type": "code",
   "execution_count": null,
   "id": "037d99d1",
   "metadata": {},
   "outputs": [],
   "source": [
    "#number of rows removed\n",
    "len(original_dat) - len(dat)"
   ]
  },
  {
   "cell_type": "code",
   "execution_count": 6,
   "id": "298caec8",
   "metadata": {},
   "outputs": [],
   "source": [
    "#remove non-numeric columns\n",
    "dat = dat.drop(['Street','City','State','Zip','geoadd','CheckAddDuplicate'], axis=1)"
   ]
  },
  {
   "cell_type": "code",
   "execution_count": 8,
   "id": "0246fa7f",
   "metadata": {},
   "outputs": [
    {
     "data": {
      "text/html": [
       "<div>\n",
       "<style scoped>\n",
       "    .dataframe tbody tr th:only-of-type {\n",
       "        vertical-align: middle;\n",
       "    }\n",
       "\n",
       "    .dataframe tbody tr th {\n",
       "        vertical-align: top;\n",
       "    }\n",
       "\n",
       "    .dataframe thead th {\n",
       "        text-align: right;\n",
       "    }\n",
       "</style>\n",
       "<table border=\"1\" class=\"dataframe\">\n",
       "  <thead>\n",
       "    <tr style=\"text-align: right;\">\n",
       "      <th></th>\n",
       "      <th>Price</th>\n",
       "      <th>SqFt</th>\n",
       "      <th>Acreage</th>\n",
       "      <th>Beds</th>\n",
       "      <th>Baths</th>\n",
       "      <th>Latitude</th>\n",
       "      <th>Longitude</th>\n",
       "    </tr>\n",
       "  </thead>\n",
       "  <tbody>\n",
       "    <tr>\n",
       "      <th>count</th>\n",
       "      <td>5584.000000</td>\n",
       "      <td>5436.000000</td>\n",
       "      <td>5584.000000</td>\n",
       "      <td>5564.000000</td>\n",
       "      <td>5583.000000</td>\n",
       "      <td>5584.000000</td>\n",
       "      <td>5584.000000</td>\n",
       "    </tr>\n",
       "    <tr>\n",
       "      <th>mean</th>\n",
       "      <td>2137.112643</td>\n",
       "      <td>1782.698389</td>\n",
       "      <td>0.912957</td>\n",
       "      <td>3.192128</td>\n",
       "      <td>2.254164</td>\n",
       "      <td>33.773794</td>\n",
       "      <td>-84.369918</td>\n",
       "    </tr>\n",
       "    <tr>\n",
       "      <th>std</th>\n",
       "      <td>444.120790</td>\n",
       "      <td>892.503206</td>\n",
       "      <td>22.728031</td>\n",
       "      <td>0.852781</td>\n",
       "      <td>0.628198</td>\n",
       "      <td>0.215588</td>\n",
       "      <td>0.286286</td>\n",
       "    </tr>\n",
       "    <tr>\n",
       "      <th>min</th>\n",
       "      <td>906.000000</td>\n",
       "      <td>100.000000</td>\n",
       "      <td>0.000000</td>\n",
       "      <td>1.000000</td>\n",
       "      <td>0.500000</td>\n",
       "      <td>33.294761</td>\n",
       "      <td>-85.048940</td>\n",
       "    </tr>\n",
       "    <tr>\n",
       "      <th>25%</th>\n",
       "      <td>1845.000000</td>\n",
       "      <td>1346.750000</td>\n",
       "      <td>0.000000</td>\n",
       "      <td>3.000000</td>\n",
       "      <td>2.000000</td>\n",
       "      <td>33.606029</td>\n",
       "      <td>-84.570788</td>\n",
       "    </tr>\n",
       "    <tr>\n",
       "      <th>50%</th>\n",
       "      <td>2099.000000</td>\n",
       "      <td>1686.500000</td>\n",
       "      <td>0.000000</td>\n",
       "      <td>3.000000</td>\n",
       "      <td>2.000000</td>\n",
       "      <td>33.772935</td>\n",
       "      <td>-84.364104</td>\n",
       "    </tr>\n",
       "    <tr>\n",
       "      <th>75%</th>\n",
       "      <td>2399.250000</td>\n",
       "      <td>2126.500000</td>\n",
       "      <td>0.350000</td>\n",
       "      <td>4.000000</td>\n",
       "      <td>2.500000</td>\n",
       "      <td>33.925092</td>\n",
       "      <td>-84.153509</td>\n",
       "    </tr>\n",
       "    <tr>\n",
       "      <th>max</th>\n",
       "      <td>3450.000000</td>\n",
       "      <td>49299.440000</td>\n",
       "      <td>1332.000000</td>\n",
       "      <td>8.000000</td>\n",
       "      <td>8.000000</td>\n",
       "      <td>34.365909</td>\n",
       "      <td>-83.782030</td>\n",
       "    </tr>\n",
       "  </tbody>\n",
       "</table>\n",
       "</div>"
      ],
      "text/plain": [
       "             Price          SqFt      Acreage         Beds        Baths  \\\n",
       "count  5584.000000   5436.000000  5584.000000  5564.000000  5583.000000   \n",
       "mean   2137.112643   1782.698389     0.912957     3.192128     2.254164   \n",
       "std     444.120790    892.503206    22.728031     0.852781     0.628198   \n",
       "min     906.000000    100.000000     0.000000     1.000000     0.500000   \n",
       "25%    1845.000000   1346.750000     0.000000     3.000000     2.000000   \n",
       "50%    2099.000000   1686.500000     0.000000     3.000000     2.000000   \n",
       "75%    2399.250000   2126.500000     0.350000     4.000000     2.500000   \n",
       "max    3450.000000  49299.440000  1332.000000     8.000000     8.000000   \n",
       "\n",
       "          Latitude    Longitude  \n",
       "count  5584.000000  5584.000000  \n",
       "mean     33.773794   -84.369918  \n",
       "std       0.215588     0.286286  \n",
       "min      33.294761   -85.048940  \n",
       "25%      33.606029   -84.570788  \n",
       "50%      33.772935   -84.364104  \n",
       "75%      33.925092   -84.153509  \n",
       "max      34.365909   -83.782030  "
      ]
     },
     "execution_count": 8,
     "metadata": {},
     "output_type": "execute_result"
    }
   ],
   "source": [
    "dat.describe()"
   ]
  },
  {
   "cell_type": "code",
   "execution_count": 10,
   "id": "60675aad",
   "metadata": {},
   "outputs": [
    {
     "data": {
      "text/plain": [
       "Price          0\n",
       "SqFt         148\n",
       "Acreage        0\n",
       "Beds          20\n",
       "Baths          1\n",
       "Latitude       0\n",
       "Longitude      0\n",
       "dtype: int64"
      ]
     },
     "execution_count": 10,
     "metadata": {},
     "output_type": "execute_result"
    }
   ],
   "source": [
    "dat.isna().sum()"
   ]
  },
  {
   "cell_type": "code",
   "execution_count": null,
   "id": "cd24217c",
   "metadata": {},
   "outputs": [],
   "source": [
    "sns.histplot(data=dat, x='Price', bins=10)"
   ]
  },
  {
   "cell_type": "markdown",
   "id": "05afa69b",
   "metadata": {},
   "source": [
    "## KNNImputer (fill NAs)"
   ]
  },
  {
   "cell_type": "code",
   "execution_count": 9,
   "id": "24a04964",
   "metadata": {},
   "outputs": [
    {
     "data": {
      "text/plain": [
       "306.66644690422464"
      ]
     },
     "execution_count": 9,
     "metadata": {},
     "output_type": "execute_result"
    }
   ],
   "source": [
    "#simple approach\n",
    "dat_simple = dat.fillna(dat.mean())\n",
    "X = dat_simple.iloc[: , 1:].values\n",
    "y = dat_simple['Price'].values\n",
    "gam_reg = LinearGAM(s(0) + s(1) + s(2) + s(3) + s(4) + s(5)).fit(X, y)\n",
    "cv_score = sqrt(gam_reg.statistics_['GCV'])\n",
    "cv_score"
   ]
  },
  {
   "cell_type": "code",
   "execution_count": 11,
   "id": "6c5e9759",
   "metadata": {},
   "outputs": [],
   "source": [
    "#a different approach to NA\n",
    "k = list(range(5,100,5)) + list(range(100,501,50))\n",
    "outsample = []\n",
    "col_names = list(dat.columns)\n",
    "\n",
    "for i in range(len(k)):\n",
    "    #create duplicate dataset with missing values\n",
    "    dat_temp = dat\n",
    "    imputer = KNNImputer(n_neighbors=k[i])\n",
    "    dat_temp = pd.DataFrame(imputer.fit_transform(dat_temp), columns=col_names)\n",
    "    #evaluate on gam model\n",
    "    X = dat_temp.iloc[: , 1:].values\n",
    "    y = dat_temp['Price'].values\n",
    "    gam_reg = LinearGAM(s(0) + s(1) + s(2) + s(3) + s(4) + s(5)).fit(X, y)\n",
    "    cv_score = sqrt(gam_reg.statistics_['GCV'])\n",
    "    outsample.append(cv_score)"
   ]
  },
  {
   "cell_type": "code",
   "execution_count": 12,
   "id": "b22e41f4",
   "metadata": {},
   "outputs": [
    {
     "data": {
      "text/plain": [
       "<AxesSubplot:xlabel='k', ylabel='out-of-sample error'>"
      ]
     },
     "execution_count": 12,
     "metadata": {},
     "output_type": "execute_result"
    },
    {
     "data": {
      "image/png": "[encoded data removed]",
      "text/plain": [
       "<Figure size 432x288 with 1 Axes>"
      ]
     },
     "metadata": {
      "needs_background": "light"
     },
     "output_type": "display_data"
    }
   ],
   "source": [
    "knn_dat = pd.DataFrame({'k':k, 'out-of-sample error':outsample})\n",
    "sns.lineplot(data=knn_dat, x='k', y='out-of-sample error')"
   ]
  },
  {
   "cell_type": "code",
   "execution_count": 13,
   "id": "5949175c",
   "metadata": {},
   "outputs": [],
   "source": [
    "#select optimal k to finalize the model\n",
    "imputer = KNNImputer(n_neighbors=35)\n",
    "dat = pd.DataFrame(imputer.fit_transform(dat), columns=col_names)"
   ]
  },
  {
   "cell_type": "markdown",
   "id": "043b5c3e",
   "metadata": {},
   "source": [
    "## KNN"
   ]
  },
  {
   "cell_type": "code",
   "execution_count": 14,
   "id": "93113d17",
   "metadata": {},
   "outputs": [],
   "source": [
    "#prep the data\n",
    "# X = dat[['Latitude','Longitude']].values\n",
    "X = dat[['SqFt','Acreage','Beds','Baths']].values\n",
    "# X = dat.iloc[: , 1:].values\n",
    "y = dat['Price'].values"
   ]
  },
  {
   "cell_type": "code",
   "execution_count": 15,
   "id": "92647517",
   "metadata": {},
   "outputs": [],
   "source": [
    "#tune the model\n",
    "outsample = []\n",
    "k = list(range(1,20)) + list(range(20,100,5)) + list(range(100,501,100))\n",
    "\n",
    "for i in range(len(k)):\n",
    "    knn_model = KNeighborsRegressor(n_neighbors=k[i])\n",
    "    cv_score = cross_validate(knn_model, X, y, cv=10, scoring='neg_mean_squared_error')['test_score']\n",
    "    outsample.append(np.mean(np.sqrt(-cv_score)))"
   ]
  },
  {
   "cell_type": "code",
   "execution_count": 16,
   "id": "32438a47",
   "metadata": {},
   "outputs": [
    {
     "data": {
      "text/plain": [
       "<AxesSubplot:xlabel='k', ylabel='out-of-sample error'>"
      ]
     },
     "execution_count": 16,
     "metadata": {},
     "output_type": "execute_result"
    },
    {
     "data": {
      "image/png": "[encoded data removed]",
      "text/plain": [
       "<Figure size 432x288 with 1 Axes>"
      ]
     },
     "metadata": {
      "needs_background": "light"
     },
     "output_type": "display_data"
    }
   ],
   "source": [
    "knn_dat = pd.DataFrame({'k':k, 'out-of-sample error':outsample})\n",
    "sns.lineplot(data=knn_dat, x='k', y='out-of-sample error')"
   ]
  },
  {
   "cell_type": "code",
   "execution_count": 17,
   "id": "4b32c400",
   "metadata": {},
   "outputs": [
    {
     "name": "stdout",
     "output_type": "stream",
     "text": [
      "The best k for out-of-sample prediction: 200\n",
      "The best cv out-of-sample error: 334.213\n"
     ]
    }
   ],
   "source": [
    "optimalk = k[outsample.index(min(outsample))]\n",
    "print('The best k for out-of-sample prediction: ' + str(optimalk))\n",
    "print('The best cv out-of-sample error: ' + str(round(min(outsample),3)))"
   ]
  },
  {
   "cell_type": "markdown",
   "id": "ffb0a865",
   "metadata": {},
   "source": [
    "## split the dataset (too much computation cost to do CV)"
   ]
  },
  {
   "cell_type": "code",
   "execution_count": 18,
   "id": "c8a3fe2d",
   "metadata": {},
   "outputs": [],
   "source": [
    "#split the data\n",
    "X = dat.iloc[: , 1:].values\n",
    "y = dat['Price'].values\n",
    "X_train, X_test, y_train, y_test = train_test_split(X, y, test_size=0.3, random_state=12345)"
   ]
  },
  {
   "cell_type": "markdown",
   "id": "12daf0a7",
   "metadata": {},
   "source": [
    "## random forest"
   ]
  },
  {
   "cell_type": "code",
   "execution_count": 19,
   "id": "5df86fdd",
   "metadata": {},
   "outputs": [
    {
     "data": {
      "application/vnd.jupyter.widget-view+json": {
       "model_id": "5f5883fb96f347f18c64a0f481e94a05",
       "version_major": 2,
       "version_minor": 0
      },
      "text/plain": [
       "  0%|          | 0/5 [00:00<?, ?it/s]"
      ]
     },
     "metadata": {},
     "output_type": "display_data"
    }
   ],
   "source": [
    "#tune the model\n",
    "maxfeatures = [2,3,4,5,6]\n",
    "samplesleaf = list(range(1,15)) + list(range(15,50,5))\n",
    "bestmaxfeature = 99999\n",
    "bestsamplesleaf = 99999\n",
    "best_outsample = 99999\n",
    "\n",
    "for i in tqdm(range(len(maxfeatures))):\n",
    "    for j in range(len(samplesleaf)):\n",
    "        rf_model = RandomForestRegressor(n_estimators=500, \n",
    "                                         max_features=maxfeatures[i], \n",
    "                                         min_samples_leaf=samplesleaf[j])\n",
    "        rf_model.fit(X_train, y_train)\n",
    "        #out-of-sample\n",
    "        test_preds = rf_model.predict(X_test)\n",
    "        rmse = sqrt(mean_squared_error(y_test, test_preds))\n",
    "        if rmse < best_outsample:\n",
    "            bestmaxfeature = maxfeatures[i]\n",
    "            bestsamplesleaf = samplesleaf[j]\n",
    "            best_outsample = rmse"
   ]
  },
  {
   "cell_type": "code",
   "execution_count": 20,
   "id": "edb0eee2",
   "metadata": {},
   "outputs": [
    {
     "name": "stdout",
     "output_type": "stream",
     "text": [
      "The best max_features for out-of-sample prediction: 6\n",
      "The best min_samples_leaf for out-of-sample prediction: 3\n",
      "The best out-of-sample error: 267.379\n"
     ]
    }
   ],
   "source": [
    "print('The best max_features for out-of-sample prediction: ' + str(bestmaxfeature))\n",
    "print('The best min_samples_leaf for out-of-sample prediction: ' + str(bestsamplesleaf))\n",
    "print('The best out-of-sample error: ' + str(round(best_outsample,3)))"
   ]
  },
  {
   "cell_type": "code",
   "execution_count": null,
   "id": "bf089d52",
   "metadata": {},
   "outputs": [],
   "source": [
    "#computation time: 5 min.\n",
    "#best max_features: 6\n",
    "#best min_samples_leaf: 3\n",
    "#best out-of-sample error: 267.38"
   ]
  },
  {
   "cell_type": "markdown",
   "id": "02557be1",
   "metadata": {},
   "source": [
    "## adaboost"
   ]
  },
  {
   "cell_type": "code",
   "execution_count": 21,
   "id": "6c370d7b",
   "metadata": {},
   "outputs": [
    {
     "data": {
      "application/vnd.jupyter.widget-view+json": {
       "model_id": "9ecf19a2edf8403d83c02cee67bb6ce0",
       "version_major": 2,
       "version_minor": 0
      },
      "text/plain": [
       "  0%|          | 0/15 [00:00<?, ?it/s]"
      ]
     },
     "metadata": {},
     "output_type": "display_data"
    }
   ],
   "source": [
    "#tune the model\n",
    "base_model = list(range(1,16))\n",
    "tree_num = [500,1000]\n",
    "learning_rate = [0.001,0.005,0.01,0.05,0.1,0.5]\n",
    "best_outsample = 99999\n",
    "best_base_model = 99999\n",
    "best_tree_num = 99999\n",
    "best_learning_rate = 99999\n",
    "\n",
    "for i in tqdm(range(len(base_model))):\n",
    "    for j in range(len(tree_num)):\n",
    "        for k in range(len(learning_rate)):\n",
    "            ada_model = AdaBoostRegressor(base_estimator=DecisionTreeRegressor(max_depth=base_model[i]), \n",
    "                                          n_estimators=tree_num[j], \n",
    "                                          learning_rate=learning_rate[k])\n",
    "            ada_model.fit(X_train, y_train)\n",
    "            #out-of-sample\n",
    "            test_preds = ada_model.predict(X_test)\n",
    "            rmse = sqrt(mean_squared_error(y_test, test_preds))\n",
    "            if rmse < best_outsample:\n",
    "                best_outsample = rmse\n",
    "                best_base_model = base_model[i]\n",
    "                best_tree_num = tree_num[j]\n",
    "                best_learning_rate = learning_rate[k]"
   ]
  },
  {
   "cell_type": "code",
   "execution_count": 22,
   "id": "897ce4e9",
   "metadata": {},
   "outputs": [
    {
     "name": "stdout",
     "output_type": "stream",
     "text": [
      "The best base_model_depth for out-of-sample prediction: 10\n",
      "The best tree_num for out-of-sample prediction: 500\n",
      "The best learning_rate for out-of-sample prediction: 0.05\n",
      "The best out-of-sample error: 266.38\n"
     ]
    }
   ],
   "source": [
    "print('The best base_model_depth for out-of-sample prediction: ' + str(best_base_model))\n",
    "print('The best tree_num for out-of-sample prediction: ' + str(best_tree_num))\n",
    "print('The best learning_rate for out-of-sample prediction: ' + str(best_learning_rate))\n",
    "print('The best out-of-sample error: ' + str(round(best_outsample,3)))"
   ]
  },
  {
   "cell_type": "code",
   "execution_count": null,
   "id": "ac51341e",
   "metadata": {},
   "outputs": [],
   "source": [
    "#computation time: 24 min.\n",
    "#best base_model_depth: 10\n",
    "#best tree_num: 500\n",
    "#best learning_rate: 0.05\n",
    "#best out-of-sample error: 266.38"
   ]
  },
  {
   "cell_type": "markdown",
   "id": "5ffaa9c9",
   "metadata": {},
   "source": [
    "## gradient boost"
   ]
  },
  {
   "cell_type": "code",
   "execution_count": 23,
   "id": "2eb67879",
   "metadata": {},
   "outputs": [
    {
     "data": {
      "application/vnd.jupyter.widget-view+json": {
       "model_id": "963babd45685456aba0b745c5b928197",
       "version_major": 2,
       "version_minor": 0
      },
      "text/plain": [
       "  0%|          | 0/10 [00:00<?, ?it/s]"
      ]
     },
     "metadata": {},
     "output_type": "display_data"
    }
   ],
   "source": [
    "#tune the model\n",
    "maxdepth = [1,2,3,4,5,6,7,8,9,10]\n",
    "tree_num = [500,1000,1500]\n",
    "learning_rate = [0.001,0.005,0.01,0.05,0.1,0.5]\n",
    "best_outsample = 99999\n",
    "best_maxdepth = 99999\n",
    "best_tree_num = 99999\n",
    "best_learning_rate = 99999\n",
    "\n",
    "for i in tqdm(range(len(maxdepth))):\n",
    "    for j in range(len(tree_num)):\n",
    "        for k in range(len(learning_rate)):\n",
    "            grad_model = GradientBoostingRegressor(max_depth=maxdepth[i], \n",
    "                                                   n_estimators=tree_num[j], \n",
    "                                                   learning_rate=learning_rate[k])\n",
    "            grad_model.fit(X_train, y_train)\n",
    "            #out-of-sample\n",
    "            test_preds = grad_model.predict(X_test)\n",
    "            rmse = sqrt(mean_squared_error(y_test, test_preds))\n",
    "            if rmse < best_outsample:\n",
    "                best_outsample = rmse\n",
    "                best_maxdepth = maxdepth[i]\n",
    "                best_tree_num = tree_num[j]\n",
    "                best_learning_rate = learning_rate[k]"
   ]
  },
  {
   "cell_type": "code",
   "execution_count": 24,
   "id": "5cb63d50",
   "metadata": {},
   "outputs": [
    {
     "name": "stdout",
     "output_type": "stream",
     "text": [
      "The best max_depth for out-of-sample prediction: 6\n",
      "The best tree_num for out-of-sample prediction: 1500\n",
      "The best learning_rate for out-of-sample prediction: 0.005\n",
      "The best out-of-sample error: 265.98\n"
     ]
    }
   ],
   "source": [
    "print('The best max_depth for out-of-sample prediction: ' + str(best_maxdepth))\n",
    "print('The best tree_num for out-of-sample prediction: ' + str(best_tree_num))\n",
    "print('The best learning_rate for out-of-sample prediction: ' + str(best_learning_rate))\n",
    "print('The best out-of-sample error: ' + str(round(best_outsample,3)))"
   ]
  },
  {
   "cell_type": "code",
   "execution_count": null,
   "id": "9e817673",
   "metadata": {},
   "outputs": [],
   "source": [
    "#computation time: 21 min.\n",
    "#best max_depth: 6\n",
    "#best tree_num: 1500\n",
    "#best learning_rate: 0.005\n",
    "#best out-of-sample error: 265.98"
   ]
  },
  {
   "cell_type": "code",
   "execution_count": null,
   "id": "61f9784d",
   "metadata": {},
   "outputs": [],
   "source": []
  },
  {
   "cell_type": "code",
   "execution_count": null,
   "id": "bf3401c8",
   "metadata": {},
   "outputs": [],
   "source": [
    "#thoughts\n",
    "#1. KNNImputer to fill NAs (already done)\n",
    "#2. KNN and rf to predict prices (already done)\n",
    "#3. learn boosting tree (adaboost and gradientboost already done) and neural network to predict prices\n",
    "#4. possibly learn support vector regression to predict prices\n",
    "\n",
    "#aside\n",
    "#the dataset is raw, we need to remove the outliers (already done)\n",
    "#need to add CV measures on some models (already done)\n",
    "#the ultimate goal is to try to make better predictions on price than we did in summer\n",
    "\n",
    "#final deliverable (a short paper)\n",
    "#introduction\n",
    "#table of model performance\n",
    "#table of model computation time\n",
    "#plot of best models performance\n",
    "#explaination of best models"
   ]
  }
 ],
 "metadata": {
  "kernelspec": {
   "display_name": "Python 3",
   "language": "python",
   "name": "python3"
  },
  "language_info": {
   "codemirror_mode": {
    "name": "ipython",
    "version": 3
   },
   "file_extension": ".py",
   "mimetype": "text/x-python",
   "name": "python",
   "nbconvert_exporter": "python",
   "pygments_lexer": "ipython3",
   "version": "3.8.8"
  }
 },
 "nbformat": 4,
 "nbformat_minor": 5
}
